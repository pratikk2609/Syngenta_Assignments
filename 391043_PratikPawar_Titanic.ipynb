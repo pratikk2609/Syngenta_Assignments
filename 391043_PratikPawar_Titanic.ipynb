{
 "cells": [
  {
   "cell_type": "markdown",
   "id": "d2c4a31b-5c41-4e7d-88c2-139b00e404fe",
   "metadata": {},
   "source": [
    "#### Name: Pratik Pawar \n",
    "#### Roll No.: 43\n",
    "#### Batch: A2\n",
    "#### PRN: 22211617"
   ]
  },
  {
   "cell_type": "markdown",
   "id": "c7f3d81c-1881-4aa7-aeff-653b15e64849",
   "metadata": {},
   "source": [
    "1. Using the [Titanic dataset]( https://www.kaggle.com/c/titanic/data), create a Python class\n",
    "to perform basic exploratory data analysis (EDA). Implement methods to visualize the\n",
    "distribution of survival rates based on different features such as ‘Pclass’, ‘Sex’, and\n",
    "‘Age’. Use Matplotlib for visualization. \n",
    "Requirements:\n",
    "o Create a class `TitanicEDA` with methods to load data, generate summary\n",
    "statistics, and create visualizations.\n",
    "o Use Pandas for data manipulation.\n",
    "o Visualize the distribution of survival rates and other features.\n",
    "o Save visualizations as image files."
   ]
  },
  {
   "cell_type": "code",
   "execution_count": 11,
   "id": "a22c651d-2336-44de-9fe8-13b1c3d13d79",
   "metadata": {},
   "outputs": [
    {
     "name": "stdout",
     "output_type": "stream",
     "text": [
      "Requirement already satisfied: pandas in c:\\users\\chinm\\anaconda3\\lib\\site-packages (2.2.2)\n",
      "Requirement already satisfied: matplotlib in c:\\users\\chinm\\anaconda3\\lib\\site-packages (3.8.4)\n",
      "Requirement already satisfied: seaborn in c:\\users\\chinm\\anaconda3\\lib\\site-packages (0.13.2)\n",
      "Requirement already satisfied: numpy>=1.26.0 in c:\\users\\chinm\\anaconda3\\lib\\site-packages (from pandas) (1.26.4)\n",
      "Requirement already satisfied: python-dateutil>=2.8.2 in c:\\users\\chinm\\anaconda3\\lib\\site-packages (from pandas) (2.9.0.post0)\n",
      "Requirement already satisfied: pytz>=2020.1 in c:\\users\\chinm\\anaconda3\\lib\\site-packages (from pandas) (2024.1)\n",
      "Requirement already satisfied: tzdata>=2022.7 in c:\\users\\chinm\\anaconda3\\lib\\site-packages (from pandas) (2023.3)\n",
      "Requirement already satisfied: contourpy>=1.0.1 in c:\\users\\chinm\\anaconda3\\lib\\site-packages (from matplotlib) (1.2.0)\n",
      "Requirement already satisfied: cycler>=0.10 in c:\\users\\chinm\\anaconda3\\lib\\site-packages (from matplotlib) (0.11.0)\n",
      "Requirement already satisfied: fonttools>=4.22.0 in c:\\users\\chinm\\anaconda3\\lib\\site-packages (from matplotlib) (4.51.0)\n",
      "Requirement already satisfied: kiwisolver>=1.3.1 in c:\\users\\chinm\\anaconda3\\lib\\site-packages (from matplotlib) (1.4.4)\n",
      "Requirement already satisfied: packaging>=20.0 in c:\\users\\chinm\\anaconda3\\lib\\site-packages (from matplotlib) (23.2)\n",
      "Requirement already satisfied: pillow>=8 in c:\\users\\chinm\\anaconda3\\lib\\site-packages (from matplotlib) (10.3.0)\n",
      "Requirement already satisfied: pyparsing>=2.3.1 in c:\\users\\chinm\\anaconda3\\lib\\site-packages (from matplotlib) (3.0.9)\n",
      "Requirement already satisfied: six>=1.5 in c:\\users\\chinm\\anaconda3\\lib\\site-packages (from python-dateutil>=2.8.2->pandas) (1.16.0)\n",
      "Note: you may need to restart the kernel to use updated packages.\n"
     ]
    }
   ],
   "source": [
    "pip install pandas matplotlib seaborn\n"
   ]
  },
  {
   "cell_type": "code",
   "execution_count": 1,
   "id": "f9b174a4-3ff4-462b-b5e4-9e3275809d69",
   "metadata": {},
   "outputs": [],
   "source": [
    "import pandas as pd\n",
    "import matplotlib.pyplot as plt\n",
    "import seaborn as sns\n"
   ]
  },
  {
   "cell_type": "code",
   "execution_count": 3,
   "id": "e7440563-0fb1-42b5-9b08-44e73b068de7",
   "metadata": {},
   "outputs": [],
   "source": [
    "class TitanicEDA:\n",
    "    def __init__(self, file_path):\n",
    "        \"\"\"\n",
    "        Initialize the TitanicEDA class with the path to the dataset.\n",
    "        \"\"\"\n",
    "        self.file_path = file_path\n",
    "        self.df = None\n",
    "\n",
    "    def load_data(self):\n",
    "        \"\"\"\n",
    "        Load the Titanic dataset from the specified file path.\n",
    "        \"\"\"\n",
    "        self.df = pd.read_csv(self.file_path)\n",
    "        print(\"Data loaded successfully.\")\n",
    "\n",
    "    def generate_summary_statistics(self):\n",
    "        \"\"\"\n",
    "        Generate and print summary statistics of the dataset.\n",
    "        \"\"\"\n",
    "        if self.df is not None:\n",
    "            print(\"Summary Statistics:\")\n",
    "            print(self.df.describe(include='all'))\n",
    "        else:\n",
    "            print(\"Data not loaded. Please load data first.\")\n",
    "\n",
    "    def plot_survival_rates(self, feature):\n",
    "        \"\"\"\n",
    "        Plot survival rates based on the specified feature and save the plot as an image file.\n",
    "        \"\"\"\n",
    "        if self.df is not None:\n",
    "            plt.figure(figsize=(10, 6))\n",
    "            sns.barplot(x=feature, y='Survived', data=self.df, estimator=lambda x: sum(x) / len(x))\n",
    "            plt.title(f'Survival Rate by {feature}')\n",
    "            plt.xlabel(feature)\n",
    "            plt.ylabel('Survival Rate')\n",
    "            plt.savefig(f'survival_rate_by_{feature}.png')\n",
    "            plt.close()\n",
    "            print(f'Plot saved as survival_rate_by_{feature}.png')\n",
    "        else:\n",
    "            print(\"Data not loaded. Please load data first.\")\n",
    "\n",
    "    def plot_age_distribution(self):\n",
    "        \"\"\"\n",
    "        Plot the distribution of ages and save the plot as an image file.\n",
    "        \"\"\"\n",
    "        if self.df is not None:\n",
    "            plt.figure(figsize=(10, 6))\n",
    "            sns.histplot(self.df['Age'].dropna(), kde=True, bins=30)\n",
    "            plt.title('Age Distribution')\n",
    "            plt.xlabel('Age')\n",
    "            plt.ylabel('Frequency')\n",
    "            plt.savefig('age_distribution.png')\n",
    "            plt.close()\n",
    "            print('Plot saved as age_distribution.png')\n",
    "        else:\n",
    "            print(\"Data not loaded. Please load data first.\")\n",
    "\n",
    "    def plot_class_distribution(self):\n",
    "        \"\"\"\n",
    "        Plot the distribution of passengers based on their Pclass and save the plot as an image file.\n",
    "        \"\"\"\n",
    "        if self.df is not None:\n",
    "            plt.figure(figsize=(10, 6))\n",
    "            sns.countplot(x='Pclass', data=self.df)\n",
    "            plt.title('Passenger Class Distribution')\n",
    "            plt.xlabel('Pclass')\n",
    "            plt.ylabel('Count')\n",
    "            plt.savefig('class_distribution.png')\n",
    "            plt.close()\n",
    "            print('Plot saved as class_distribution.png')\n",
    "        else:\n",
    "            print(\"Data not loaded. Please load data first.\")\n",
    "\n",
    "    def plot_sex_distribution(self):\n",
    "        \"\"\"\n",
    "        Plot the distribution of survival rates based on Sex and save the plot as an image file.\n",
    "        \"\"\"\n",
    "        if self.df is not None:\n",
    "            plt.figure(figsize=(10, 6))\n",
    "            sns.barplot(x='Sex', y='Survived', data=self.df, estimator=lambda x: sum(x) / len(x))\n",
    "            plt.title('Survival Rate by Sex')\n",
    "            plt.xlabel('Sex')\n",
    "            plt.ylabel('Survival Rate')\n",
    "            plt.savefig('survival_rate_by_sex.png')\n",
    "            plt.close()\n",
    "            print('Plot saved as survival_rate_by_sex.png')\n",
    "        else:\n",
    "            print(\"Data not loaded. Please load data first.\")\n"
   ]
  },
  {
   "cell_type": "code",
   "execution_count": 7,
   "id": "24209204-95c5-45e5-949d-ce7b9f312a43",
   "metadata": {},
   "outputs": [
    {
     "name": "stdout",
     "output_type": "stream",
     "text": [
      "Data loaded successfully.\n"
     ]
    }
   ],
   "source": [
    "# Create an instance of TitanicEDA\n",
    "eda = TitanicEDA(\"Downloads/Titanic-Dataset.csv\")\n",
    "\n",
    "# Load the Titanic dataset\n",
    "eda.load_data()\n"
   ]
  },
  {
   "cell_type": "code",
   "execution_count": 9,
   "id": "bc21dacb-fa46-4e37-9cfe-56713e8cd49c",
   "metadata": {},
   "outputs": [
    {
     "name": "stdout",
     "output_type": "stream",
     "text": [
      "Summary Statistics:\n",
      "        PassengerId    Survived      Pclass                     Name   Sex  \\\n",
      "count    891.000000  891.000000  891.000000                      891   891   \n",
      "unique          NaN         NaN         NaN                      891     2   \n",
      "top             NaN         NaN         NaN  Braund, Mr. Owen Harris  male   \n",
      "freq            NaN         NaN         NaN                        1   577   \n",
      "mean     446.000000    0.383838    2.308642                      NaN   NaN   \n",
      "std      257.353842    0.486592    0.836071                      NaN   NaN   \n",
      "min        1.000000    0.000000    1.000000                      NaN   NaN   \n",
      "25%      223.500000    0.000000    2.000000                      NaN   NaN   \n",
      "50%      446.000000    0.000000    3.000000                      NaN   NaN   \n",
      "75%      668.500000    1.000000    3.000000                      NaN   NaN   \n",
      "max      891.000000    1.000000    3.000000                      NaN   NaN   \n",
      "\n",
      "               Age       SibSp       Parch  Ticket        Fare    Cabin  \\\n",
      "count   714.000000  891.000000  891.000000     891  891.000000      204   \n",
      "unique         NaN         NaN         NaN     681         NaN      147   \n",
      "top            NaN         NaN         NaN  347082         NaN  B96 B98   \n",
      "freq           NaN         NaN         NaN       7         NaN        4   \n",
      "mean     29.699118    0.523008    0.381594     NaN   32.204208      NaN   \n",
      "std      14.526497    1.102743    0.806057     NaN   49.693429      NaN   \n",
      "min       0.420000    0.000000    0.000000     NaN    0.000000      NaN   \n",
      "25%      20.125000    0.000000    0.000000     NaN    7.910400      NaN   \n",
      "50%      28.000000    0.000000    0.000000     NaN   14.454200      NaN   \n",
      "75%      38.000000    1.000000    0.000000     NaN   31.000000      NaN   \n",
      "max      80.000000    8.000000    6.000000     NaN  512.329200      NaN   \n",
      "\n",
      "       Embarked  \n",
      "count       889  \n",
      "unique        3  \n",
      "top           S  \n",
      "freq        644  \n",
      "mean        NaN  \n",
      "std         NaN  \n",
      "min         NaN  \n",
      "25%         NaN  \n",
      "50%         NaN  \n",
      "75%         NaN  \n",
      "max         NaN  \n"
     ]
    }
   ],
   "source": [
    "# Generate summary statistics\n",
    "eda.generate_summary_statistics()\n"
   ]
  },
  {
   "cell_type": "code",
   "execution_count": 11,
   "id": "8043fadb-8cf6-485e-b79e-cfc390cd5c8f",
   "metadata": {},
   "outputs": [
    {
     "name": "stdout",
     "output_type": "stream",
     "text": [
      "Plot saved as survival_rate_by_Pclass.png\n"
     ]
    }
   ],
   "source": [
    "# Plot survival rates by Pclass\n",
    "eda.plot_survival_rates('Pclass')\n"
   ]
  },
  {
   "cell_type": "code",
   "execution_count": 13,
   "id": "a909b921-eb3f-4a3d-be10-9b56c3becb08",
   "metadata": {},
   "outputs": [
    {
     "name": "stdout",
     "output_type": "stream",
     "text": [
      "Plot saved as survival_rate_by_sex.png\n"
     ]
    }
   ],
   "source": [
    "# Plot survival rates by Sex\n",
    "eda.plot_sex_distribution()\n"
   ]
  },
  {
   "cell_type": "code",
   "execution_count": 15,
   "id": "0cd20eef-86d8-40db-bf70-f4d8edfe8c16",
   "metadata": {},
   "outputs": [
    {
     "name": "stdout",
     "output_type": "stream",
     "text": [
      "Plot saved as age_distribution.png\n"
     ]
    }
   ],
   "source": [
    "# Plot age distribution\n",
    "eda.plot_age_distribution()\n"
   ]
  },
  {
   "cell_type": "code",
   "execution_count": 17,
   "id": "ee6be476-460f-4d54-80ea-44797cdaa7e8",
   "metadata": {},
   "outputs": [
    {
     "name": "stdout",
     "output_type": "stream",
     "text": [
      "Plot saved as class_distribution.png\n"
     ]
    }
   ],
   "source": [
    "# Plot passenger class distribution\n",
    "eda.plot_class_distribution()\n"
   ]
  }
 ],
 "metadata": {
  "kernelspec": {
   "display_name": "Python 3 (ipykernel)",
   "language": "python",
   "name": "python3"
  },
  "language_info": {
   "codemirror_mode": {
    "name": "ipython",
    "version": 3
   },
   "file_extension": ".py",
   "mimetype": "text/x-python",
   "name": "python",
   "nbconvert_exporter": "python",
   "pygments_lexer": "ipython3",
   "version": "3.12.4"
  }
 },
 "nbformat": 4,
 "nbformat_minor": 5
}
